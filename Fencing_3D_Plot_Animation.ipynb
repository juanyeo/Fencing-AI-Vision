{
 "cells": [
  {
   "cell_type": "code",
   "execution_count": 1,
   "id": "c5f69e89",
   "metadata": {},
   "outputs": [],
   "source": [
    "import cv2\n",
    "import mediapipe as mp\n",
    "import numpy as np\n",
    "\n",
    "import matplotlib.pyplot as plt\n",
    "import mpl_toolkits.mplot3d.axes3d as ax3d\n",
    "import math\n",
    "\n",
    "mp_drawing = mp.solutions.drawing_utils\n",
    "mp_pose = mp.solutions.pose"
   ]
  },
  {
   "cell_type": "code",
   "execution_count": 7,
   "id": "e2002f82",
   "metadata": {},
   "outputs": [
    {
     "ename": "error",
     "evalue": "OpenCV(4.5.4-dev) /Users/runner/work/opencv-python/opencv-python/opencv/modules/highgui/src/window.cpp:1006: error: (-215:Assertion failed) size.width>0 && size.height>0 in function 'imshow'\n",
     "output_type": "error",
     "traceback": [
      "\u001b[0;31m---------------------------------------------------------------------------\u001b[0m",
      "\u001b[0;31merror\u001b[0m                                     Traceback (most recent call last)",
      "\u001b[0;32m<ipython-input-7-f2d8226e133c>\u001b[0m in \u001b[0;36m<module>\u001b[0;34m\u001b[0m\n\u001b[1;32m      2\u001b[0m \u001b[0;32mwhile\u001b[0m \u001b[0;32mTrue\u001b[0m\u001b[0;34m:\u001b[0m\u001b[0;34m\u001b[0m\u001b[0;34m\u001b[0m\u001b[0m\n\u001b[1;32m      3\u001b[0m     \u001b[0mret\u001b[0m\u001b[0;34m,\u001b[0m \u001b[0mframe\u001b[0m \u001b[0;34m=\u001b[0m \u001b[0mcap\u001b[0m\u001b[0;34m.\u001b[0m\u001b[0mread\u001b[0m\u001b[0;34m(\u001b[0m\u001b[0;34m)\u001b[0m\u001b[0;34m\u001b[0m\u001b[0;34m\u001b[0m\u001b[0m\n\u001b[0;32m----> 4\u001b[0;31m     \u001b[0mcv2\u001b[0m\u001b[0;34m.\u001b[0m\u001b[0mimshow\u001b[0m\u001b[0;34m(\u001b[0m\u001b[0;34m'Mediapipe'\u001b[0m\u001b[0;34m,\u001b[0m \u001b[0mframe\u001b[0m\u001b[0;34m)\u001b[0m\u001b[0;34m\u001b[0m\u001b[0;34m\u001b[0m\u001b[0m\n\u001b[0m\u001b[1;32m      5\u001b[0m \u001b[0;34m\u001b[0m\u001b[0m\n\u001b[1;32m      6\u001b[0m     \u001b[0;32mif\u001b[0m \u001b[0mcv2\u001b[0m\u001b[0;34m.\u001b[0m\u001b[0mwaitKey\u001b[0m\u001b[0;34m(\u001b[0m\u001b[0;36m10\u001b[0m\u001b[0;34m)\u001b[0m \u001b[0;34m&\u001b[0m \u001b[0;36m0xFF\u001b[0m \u001b[0;34m==\u001b[0m \u001b[0mord\u001b[0m\u001b[0;34m(\u001b[0m\u001b[0;34m'q'\u001b[0m\u001b[0;34m)\u001b[0m\u001b[0;34m:\u001b[0m\u001b[0;34m\u001b[0m\u001b[0;34m\u001b[0m\u001b[0m\n",
      "\u001b[0;31merror\u001b[0m: OpenCV(4.5.4-dev) /Users/runner/work/opencv-python/opencv-python/opencv/modules/highgui/src/window.cpp:1006: error: (-215:Assertion failed) size.width>0 && size.height>0 in function 'imshow'\n"
     ]
    }
   ],
   "source": [
    "cap = cv2.VideoCapture('http://192.168.0.40:8000')\n",
    "while True:\n",
    "    ret, frame = cap.read()\n",
    "    cv2.imshow('Mediapipe', frame)\n",
    "    \n",
    "    if cv2.waitKey(10) & 0xFF == ord('q'):\n",
    "        break\n",
    "        \n",
    "cap.release()\n",
    "cv2.destroyAllWindows()"
   ]
  },
  {
   "cell_type": "code",
   "execution_count": null,
   "id": "65e967d2",
   "metadata": {},
   "outputs": [],
   "source": [
    "%matplotlib tk\n",
    "\n",
    "# LINES: Body(2), L_ARM(4), R_ARM(4), L_LEG(4), R_LEG(4)\n",
    "LINES = [[11, 12], [23, 24], [11, 23], [12, 24],\n",
    "            [11, 13], [13, 15], [15, 19], [15, 17], [17, 19],\n",
    "            [12, 14], [14, 16], [16, 20], [16, 18], [18, 20],\n",
    "            [23, 25], [25, 27], [27, 29], [29, 31], [27, 31],\n",
    "            [24, 26], [26, 28], [28, 30], [30, 32], [28, 32]]\n",
    "POINTS = [1, 4, 9, 10, 11, 12, 13, 14, 15, 16, 19, 20, 23, 24, 25, 26, 27, 28, 29, 30, 31, 32]\n",
    "\n",
    "def plot_fencing_3d(fig, pose):\n",
    "    ax = fig.gca(projection='3d')\n",
    "    \n",
    "    min_val = -1.0\n",
    "    max_val = 1.0\n",
    "    ax.set_xlim3d(min_val, max_val)\n",
    "    ax.set_ylim3d(min_val, max_val)\n",
    "    ax.set_zlim3d(min_val, max_val)\n",
    "    \n",
    "    for line in LINES:\n",
    "        line_color = '#2ca02c'\n",
    "        if line[0] == 25 or line[0] == 13:\n",
    "            line_color = '#d62728'\n",
    "        ax.plot([pose[line[0]].x, pose[line[1]].x], [pose[line[0]].z, pose[line[1]].z],\n",
    "                   [-pose[line[0]].y, -pose[line[1]].y], color=line_color)\n",
    "        \n",
    "    '''\n",
    "    # Draw Backbone\n",
    "    bottom_center = [(pose[23].x + pose[24].x)/2, (pose[23].z + pose[24].z)/2, -(pose[23].y + pose[24].y)/2]\n",
    "    ax.plot([shoulder_center[0], bottom_center[0]], [shoulder_center[1], bottom_center[1]], \n",
    "            [shoulder_center[2], bottom_center[2]], color='#2ca02c')\n",
    "    '''\n",
    "    \n",
    "    '''\n",
    "    for point in POINTS:\n",
    "        point_color = '#1f77b4'\n",
    "        ax.scatter(pose[point].x, pose[point].y, pose[point].z, color=point_color, marker='o', edgecolor=point_color)\n",
    "    '''\n",
    "    \n",
    "    # Draw Head\n",
    "    shoulder_center = [(pose[11].x + pose[12].x)/2, (pose[11].z + pose[12].z)/2, -(pose[11].y + pose[12].y)/2]\n",
    "    bottom_center = [(pose[23].x + pose[24].x)/2, (pose[23].z + pose[24].z)/2, -(pose[23].y + pose[24].y)/2]\n",
    "    \n",
    "    ax.plot([shoulder_center[0], 1.5*shoulder_center[0] - 0.5*bottom_center[0]], \n",
    "            [shoulder_center[1], 1.5*shoulder_center[1] - 0.5*bottom_center[1]], \n",
    "            [shoulder_center[2], 1.5*shoulder_center[2] - 0.5*bottom_center[2]], color='#1f77b4')"
   ]
  },
  {
   "cell_type": "code",
   "execution_count": null,
   "id": "a5526b9a",
   "metadata": {},
   "outputs": [],
   "source": [
    "cap = cv2.VideoCapture('fencing_full_1.mov')\n",
    "\n",
    "fig = plt.figure(figsize=(8,8))\n",
    "\n",
    "with mp_pose.Pose(min_detection_confidence=0.5, min_tracking_confidence=0.5) as pose:\n",
    "    poses = []\n",
    "    i = 0\n",
    "    \n",
    "    while cap.isOpened():\n",
    "        ret, frame = cap.read()\n",
    "        \n",
    "        # Make detection\n",
    "        results = pose.process(frame)\n",
    "        \n",
    "        \n",
    "        # Render detection\n",
    "        mp_drawing.draw_landmarks(frame, results.pose_landmarks, mp_pose.POSE_CONNECTIONS,\n",
    "                                 mp_drawing.DrawingSpec(color=(0, 0, 255), thickness=2, circle_radius=2),\n",
    "                                 mp_drawing.DrawingSpec(color=(0,255,0), thickness=2, circle_radius=2))\n",
    "        \n",
    "        #cv2.imshow('Fencing Feed', frame)\n",
    "        \n",
    "        \n",
    "        if(results.pose_world_landmarks != None):\n",
    "            poses.append(results.pose_world_landmarks.landmark)\n",
    "            i += 1\n",
    "        \n",
    "        if i > 500:\n",
    "            break;\n",
    "        \n",
    "    cap.release()\n",
    "    cv2.destroyAllWindows()"
   ]
  },
  {
   "cell_type": "code",
   "execution_count": null,
   "id": "64264a19",
   "metadata": {},
   "outputs": [],
   "source": [
    "cap = cv2.VideoCapture(0)\n",
    "\n",
    "with mp_pose.Pose(min_detection_confidence=0.5, min_tracking_confidence=0.5) as pose:\n",
    "    while cap.isOpened():\n",
    "        ret, frame = cap.read()\n",
    "        \n",
    "        # Make detection\n",
    "        results = pose.process(frame)\n",
    "        \n",
    "        # Render detection\n",
    "        mp_drawing.draw_landmarks(frame, results.pose_landmarks, mp_pose.POSE_CONNECTIONS,\n",
    "                                 mp_drawing.DrawingSpec(color=(0, 0, 255), thickness=2, circle_radius=2),\n",
    "                                 mp_drawing.DrawingSpec(color=(0,255,0), thickness=2, circle_radius=2))\n",
    "        \n",
    "        cv2.imshow('Webcam', frame)\n",
    "        \n",
    "    cap.release()\n",
    "    cv2.destroyAllWindows()"
   ]
  },
  {
   "cell_type": "code",
   "execution_count": null,
   "id": "0e6e82f1",
   "metadata": {},
   "outputs": [],
   "source": [
    "for pose in poses:\n",
    "    plot_fencing_3d(fig, pose)\n",
    "    plt.pause(0.0001)\n",
    "    plt.cla()\n",
    "    #fencing_3d_animate(poses)"
   ]
  },
  {
   "cell_type": "code",
   "execution_count": null,
   "id": "56dc8a2c",
   "metadata": {},
   "outputs": [],
   "source": []
  }
 ],
 "metadata": {
  "kernelspec": {
   "display_name": "Python 3",
   "language": "python",
   "name": "python3"
  },
  "language_info": {
   "codemirror_mode": {
    "name": "ipython",
    "version": 3
   },
   "file_extension": ".py",
   "mimetype": "text/x-python",
   "name": "python",
   "nbconvert_exporter": "python",
   "pygments_lexer": "ipython3",
   "version": "3.7.10"
  }
 },
 "nbformat": 4,
 "nbformat_minor": 5
}
